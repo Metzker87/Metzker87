{
  "nbformat": 4,
  "nbformat_minor": 0,
  "metadata": {
    "colab": {
      "name": "python_total_Feltrin.ipynb",
      "provenance": [],
      "authorship_tag": "ABX9TyO7NP8hBKLvNJ5ft5zp/aIG",
      "include_colab_link": true
    },
    "kernelspec": {
      "name": "python3",
      "display_name": "Python 3"
    },
    "language_info": {
      "name": "python"
    }
  },
  "cells": [
    {
      "cell_type": "markdown",
      "metadata": {
        "id": "view-in-github",
        "colab_type": "text"
      },
      "source": [
        "<a href=\"https://colab.research.google.com/github/metzker87/Metzker87/blob/main/python_total_Feltrin/python_total_Feltrin.ipynb\" target=\"_parent\"><img src=\"https://colab.research.google.com/assets/colab-badge.svg\" alt=\"Open In Colab\"/></a>"
      ]
    },
    {
      "cell_type": "code",
      "execution_count": 1,
      "metadata": {
        "colab": {
          "base_uri": "https://localhost:8080/"
        },
        "id": "brOuuyuQLzuh",
        "outputId": "da88ae1d-d195-45c5-b58e-ac0369b25bbd"
      },
      "outputs": [
        {
          "output_type": "stream",
          "name": "stdout",
          "text": [
            "Informe a nota: 8\n",
            "Aprovado\n"
          ]
        }
      ],
      "source": [
        "nota = int(input('Informe a nota: '))\n",
        "\n",
        "if nota >= 9:\n",
        "  print('Parabéns, quadro de honra')\n",
        "elif nota >= 7:\n",
        "  print('Aprovado')\n",
        "elif nota >= 5:\n",
        "  print('Recuperação')\n",
        "else:\n",
        "  print('Reprovado')"
      ]
    },
    {
      "cell_type": "markdown",
      "source": [
        "**Condicionais dentro de condicionais** => Python kpermite o uso e funcionará perfeitamente desde que a sintaxe e indentação sejam respeitadas."
      ],
      "metadata": {
        "id": "yQR9-L20Upve"
      }
    },
    {
      "cell_type": "code",
      "source": [
        "var1 = 0\n",
        "var2 = int(input('Digite um número: '))\n",
        "\n",
        "if var2 > var1:\n",
        "  print('Número maior que ZERO')\n",
        "  if var2 == 1:\n",
        "    print('O número digitado foi 1')\n",
        "  elif var2 == 2:\n",
        "    print('O número digitado foi 2')\n",
        "  elif var2 == 3:\n",
        "    print('O número digitado foi 3')\n",
        "  else:\n",
        "    print('O número digitado é maior que 3')\n",
        "\n",
        "else: \n",
        "  print('Número inválido')"
      ],
      "metadata": {
        "colab": {
          "base_uri": "https://localhost:8080/"
        },
        "id": "0CiaRnUfS78b",
        "outputId": "a78e561c-ed71-4fb0-88f4-33c80777fb60"
      },
      "execution_count": 4,
      "outputs": [
        {
          "output_type": "stream",
          "name": "stdout",
          "text": [
            "Digite um número: 4\n",
            "Número maior que ZERO\n",
            "O número digitado é maior que 3\n"
          ]
        }
      ]
    },
    {
      "cell_type": "markdown",
      "source": [
        "Simulando Switch/case => em outras linguagens temos a função switch (para que de acordo com a necessidade, sejam tomadas certa decisões). Em Python, nativamente não temos tal função, podemos simular a fucionalidade com dicionários:"
      ],
      "metadata": {
        "id": "Hklx7rQVV85f"
      }
    },
    {
      "cell_type": "code",
      "source": [
        "class Cor:\n",
        "  vermelho = 1\n",
        "  verde = 2\n",
        "  azul = 3\n",
        "  branco = 4\n",
        "  preto = 5\n",
        "\n",
        "# Mude a cor para testar\n",
        "\n",
        "cor_atual = 4\n",
        "\n",
        "if cor_atual == Cor.vermelho:\n",
        "  print(\"Vermelho\")\n",
        "elif cor_atual == Cor.verde:\n",
        "  print(\"Verde\")\n",
        "elif cor_atual == Cor.azul:\n",
        "  print(\"Azul\")\n",
        "elif cor_atual == Cor.branco:\n",
        "  print(\"Branco\")\n",
        "elif cor_atual == Cor.preto:\n",
        "  print(\"Preto\")\n",
        "else: \n",
        "  print(\"Desconhecido\")"
      ],
      "metadata": {
        "colab": {
          "base_uri": "https://localhost:8080/"
        },
        "id": "3DbnxTGYUezP",
        "outputId": "07dada44-47fd-45c9-af2e-56c569c1aa70"
      },
      "execution_count": 7,
      "outputs": [
        {
          "output_type": "stream",
          "name": "stdout",
          "text": [
            "Branco\n"
          ]
        }
      ]
    },
    {
      "cell_type": "markdown",
      "source": [
        "# Estrutura de Repetição\n",
        "**Laço While:**"
      ],
      "metadata": {
        "id": "b1Svb2T5aJQo"
      }
    },
    {
      "cell_type": "code",
      "source": [
        ""
      ],
      "metadata": {
        "id": "F9dD6rn_aVIn"
      },
      "execution_count": null,
      "outputs": []
    }
  ]
}